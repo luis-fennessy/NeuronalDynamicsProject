{
 "cells": [
  {
   "cell_type": "code",
   "execution_count": 1,
   "id": "87119a54",
   "metadata": {},
   "outputs": [],
   "source": [
    "import numpy as np\n",
    "from main import HopfieldNetwork"
   ]
  },
  {
   "cell_type": "code",
   "execution_count": 2,
   "id": "ab2746f9",
   "metadata": {},
   "outputs": [],
   "source": [
    "P = 5\n",
    "N = 300"
   ]
  },
  {
   "cell_type": "code",
   "execution_count": 3,
   "id": "ebc7544e",
   "metadata": {},
   "outputs": [],
   "source": [
    "network = HopfieldNetwork(N,P)"
   ]
  },
  {
   "cell_type": "code",
   "execution_count": 4,
   "id": "04b3bc4d",
   "metadata": {},
   "outputs": [
    {
     "name": "stdout",
     "output_type": "stream",
     "text": [
      "['N', 'P', '__class__', '__delattr__', '__dict__', '__dir__', '__doc__', '__eq__', '__format__', '__ge__', '__getattribute__', '__getstate__', '__gt__', '__hash__', '__init__', '__init_subclass__', '__le__', '__lt__', '__module__', '__ne__', '__new__', '__reduce__', '__reduce_ex__', '__repr__', '__setattr__', '__sizeof__', '__str__', '__subclasshook__', '__weakref__', 'compute_next_state', 'compute_next_state_1', 'compute_next_state_fast', 'compute_overlap', 'generate_balanced_patterns', 'get_weight_matrix', 'overlaps', 'patterns', 'states']\n"
     ]
    }
   ],
   "source": [
    "print(dir(network))"
   ]
  },
  {
   "cell_type": "code",
   "execution_count": 5,
   "id": "cad9da09",
   "metadata": {},
   "outputs": [],
   "source": [
    "t = 5\n",
    "overlaps = np.zeros((t,P))\n",
    "states = np.zeros((t,N))\n",
    "for step in range(t):\n",
    "    new_state= network.compute_next_state_fast()\n",
    "    overlaps[step,:] = network.overlaps\n",
    "    states[step,:] = new_state\n"
   ]
  },
  {
   "cell_type": "code",
   "execution_count": 6,
   "id": "b3dfad8e",
   "metadata": {},
   "outputs": [],
   "source": [
    "import matplotlib.pyplot as plt"
   ]
  },
  {
   "cell_type": "code",
   "execution_count": 9,
   "id": "0d39739c",
   "metadata": {},
   "outputs": [
    {
     "data": {
      "text/plain": [
       "array([[-1.,  1., -1., ..., -1., -1.,  1.],\n",
       "       [-1.,  1., -1., ..., -1., -1.,  1.],\n",
       "       [-1.,  1., -1., ..., -1., -1.,  1.],\n",
       "       [-1.,  1., -1., ..., -1., -1.,  1.],\n",
       "       [-1.,  1., -1., ..., -1., -1.,  1.]])"
      ]
     },
     "execution_count": 9,
     "metadata": {},
     "output_type": "execute_result"
    }
   ],
   "source": [
    "states"
   ]
  },
  {
   "cell_type": "code",
   "execution_count": 8,
   "id": "95891129",
   "metadata": {},
   "outputs": [
    {
     "data": {
      "text/plain": [
       "array([[ 32.8,  -1.6,  30.4,  -2.4, -28. ],\n",
       "       [ 32.8,  -1.6,  30.4,  -2.4, -28. ],\n",
       "       [ 32.8,  -1.6,  30.4,  -2.4, -28. ],\n",
       "       [ 32.8,  -1.6,  30.4,  -2.4, -28. ],\n",
       "       [ 32.8,  -1.6,  30.4,  -2.4, -28. ]])"
      ]
     },
     "execution_count": 8,
     "metadata": {},
     "output_type": "execute_result"
    }
   ],
   "source": [
    "overlaps"
   ]
  },
  {
   "cell_type": "code",
   "execution_count": 7,
   "id": "e5f54581",
   "metadata": {},
   "outputs": [
    {
     "data": {
      "text/plain": [
       "[<matplotlib.lines.Line2D at 0x2d2aeaa98b0>,\n",
       " <matplotlib.lines.Line2D at 0x2d2aeb29940>,\n",
       " <matplotlib.lines.Line2D at 0x2d2aeb29a30>,\n",
       " <matplotlib.lines.Line2D at 0x2d2aeb29b20>,\n",
       " <matplotlib.lines.Line2D at 0x2d2aeb29c10>]"
      ]
     },
     "execution_count": 7,
     "metadata": {},
     "output_type": "execute_result"
    },
    {
     "data": {
      "image/png": "[encoded data removed]",
      "text/plain": [
       "<Figure size 640x480 with 1 Axes>"
      ]
     },
     "metadata": {},
     "output_type": "display_data"
    }
   ],
   "source": [
    "plt.plot(overlaps)"
   ]
  },
  {
   "cell_type": "code",
   "execution_count": null,
   "id": "232128c0",
   "metadata": {},
   "outputs": [],
   "source": []
  }
 ],
 "metadata": {
  "kernelspec": {
   "display_name": "bmnn",
   "language": "python",
   "name": "python3"
  },
  "language_info": {
   "codemirror_mode": {
    "name": "ipython",
    "version": 3
   },
   "file_extension": ".py",
   "mimetype": "text/x-python",
   "name": "python",
   "nbconvert_exporter": "python",
   "pygments_lexer": "ipython3",
   "version": "3.12.9"
  }
 },
 "nbformat": 4,
 "nbformat_minor": 5
}
