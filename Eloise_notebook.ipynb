{
 "cells": [
  {
   "cell_type": "code",
   "execution_count": 6,
   "id": "87119a54",
   "metadata": {},
   "outputs": [],
   "source": [
    "from main import HopfieldNetwork\n",
    "import numpy as np"
   ]
  },
  {
   "cell_type": "code",
   "execution_count": 7,
   "id": "ab2746f9",
   "metadata": {},
   "outputs": [],
   "source": [
    "P = 5\n",
    "N = 300"
   ]
  },
  {
   "cell_type": "code",
   "execution_count": 8,
   "id": "ebc7544e",
   "metadata": {},
   "outputs": [],
   "source": [
    "network = HopfieldNetwork(N,P)"
   ]
  },
  {
   "cell_type": "code",
   "execution_count": null,
   "id": "cad9da09",
   "metadata": {},
   "outputs": [
    {
     "ename": "AttributeError",
     "evalue": "'HopfieldNetwork' object has no attribute 'compute_next_state_fast'",
     "output_type": "error",
     "traceback": [
      "\u001b[1;31m---------------------------------------------------------------------------\u001b[0m",
      "\u001b[1;31mAttributeError\u001b[0m                            Traceback (most recent call last)",
      "Cell \u001b[1;32mIn[10], line 5\u001b[0m\n\u001b[0;32m      3\u001b[0m states \u001b[38;5;241m=\u001b[39m np\u001b[38;5;241m.\u001b[39mzeros((t,N))\n\u001b[0;32m      4\u001b[0m \u001b[38;5;28;01mfor\u001b[39;00m step \u001b[38;5;129;01min\u001b[39;00m \u001b[38;5;28mrange\u001b[39m(t):\n\u001b[1;32m----> 5\u001b[0m     network\u001b[38;5;241m.\u001b[39mcompute_next_state_fast()\n\u001b[0;32m      6\u001b[0m     overlaps[step,:] \u001b[38;5;241m=\u001b[39m network\u001b[38;5;241m.\u001b[39moverlaps\n\u001b[0;32m      7\u001b[0m     states[step,:] \u001b[38;5;241m=\u001b[39m network\u001b[38;5;241m.\u001b[39mstates\n",
      "\u001b[1;31mAttributeError\u001b[0m: 'HopfieldNetwork' object has no attribute 'compute_next_state_fast'"
     ]
    }
   ],
   "source": [
    "t = 5\n",
    "overlaps = np.zeros((t,P))\n",
    "states = np.zeros((t,N))\n",
    "for step in range(t):\n",
    "    network.compute_next_state_fast()\n",
    "    overlaps[step,:] = network.overlaps\n",
    "    states[step,:] = network.states\n"
   ]
  },
  {
   "cell_type": "code",
   "execution_count": null,
   "id": "e5f54581",
   "metadata": {},
   "outputs": [],
   "source": []
  }
 ],
 "metadata": {
  "kernelspec": {
   "display_name": "bmnn",
   "language": "python",
   "name": "python3"
  },
  "language_info": {
   "codemirror_mode": {
    "name": "ipython",
    "version": 3
   },
   "file_extension": ".py",
   "mimetype": "text/x-python",
   "name": "python",
   "nbconvert_exporter": "python",
   "pygments_lexer": "ipython3",
   "version": "3.12.9"
  }
 },
 "nbformat": 4,
 "nbformat_minor": 5
}
