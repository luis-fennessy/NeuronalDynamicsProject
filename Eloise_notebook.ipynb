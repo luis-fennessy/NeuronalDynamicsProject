{
 "cells": [
  {
   "cell_type": "code",
   "execution_count": 2,
   "id": "87119a54",
   "metadata": {},
   "outputs": [],
   "source": [
    "import numpy as np\n",
    "from main import HopfieldNetwork\n",
    "import matplotlib.pyplot as plt\n",
    "import random"
   ]
  },
  {
   "cell_type": "markdown",
   "id": "22f1e1ad",
   "metadata": {},
   "source": [
    "## Ex 1. Storage capacity in the standard Hopfield network\n",
    "\n",
    "if overlap = 1, then a pattern has been retrieved\n",
    "\n",
    "if overlap = 0, then there is no correlation between pattern and state\n",
    "\n",
    "if overlap = -1, then all the bits are exactly opposite of the pattern (kind of like negative correlation)\n"
   ]
  },
  {
   "cell_type": "markdown",
   "id": "75aa3059",
   "metadata": {},
   "source": [
    "### 1.1"
   ]
  },
  {
   "cell_type": "code",
   "execution_count": 2,
   "id": "ab2746f9",
   "metadata": {},
   "outputs": [],
   "source": [
    "P = 5\n",
    "N = 300"
   ]
  },
  {
   "cell_type": "code",
   "execution_count": 3,
   "id": "ebc7544e",
   "metadata": {},
   "outputs": [
    {
     "data": {
      "text/plain": [
       "[1.0, -0.04, -0.12000000000000001, -0.05333333333333334, 0.0]"
      ]
     },
     "execution_count": 3,
     "metadata": {},
     "output_type": "execute_result"
    }
   ],
   "source": [
    "network = HopfieldNetwork(N,P)\n",
    "#Setting inital state as the first pattern\n",
    "network.set_states(network.patterns[0].copy())\n",
    "network.compute_overlap()"
   ]
  },
  {
   "cell_type": "code",
   "execution_count": 4,
   "id": "562612bd",
   "metadata": {},
   "outputs": [
    {
     "name": "stdout",
     "output_type": "stream",
     "text": [
      "Overlap with patterns at the inital state\n",
      "[1.0, -0.04, -0.12000000000000001, -0.05333333333333334, 0.0]\n"
     ]
    }
   ],
   "source": [
    "t = 5\n",
    "overlaps = np.zeros((t,P))\n",
    "print(\"Overlap with patterns at the inital state\")\n",
    "print(network.overlaps)"
   ]
  },
  {
   "cell_type": "code",
   "execution_count": 5,
   "id": "cad9da09",
   "metadata": {},
   "outputs": [],
   "source": [
    "for step in range(t):\n",
    "    new_state = network.compute_next_state_fast()\n",
    "    overlaps[step, :] = network.overlaps"
   ]
  },
  {
   "cell_type": "code",
   "execution_count": 6,
   "id": "95891129",
   "metadata": {},
   "outputs": [
    {
     "data": {
      "text/plain": [
       "array([[ 1.        , -0.04      , -0.12      , -0.05333333,  0.        ],\n",
       "       [ 1.        , -0.04      , -0.12      , -0.05333333,  0.        ],\n",
       "       [ 1.        , -0.04      , -0.12      , -0.05333333,  0.        ],\n",
       "       [ 1.        , -0.04      , -0.12      , -0.05333333,  0.        ],\n",
       "       [ 1.        , -0.04      , -0.12      , -0.05333333,  0.        ]])"
      ]
     },
     "execution_count": 6,
     "metadata": {},
     "output_type": "execute_result"
    }
   ],
   "source": [
    "overlaps"
   ]
  },
  {
   "cell_type": "code",
   "execution_count": 7,
   "id": "e5f54581",
   "metadata": {},
   "outputs": [
    {
     "data": {
      "text/plain": [
       "[<matplotlib.lines.Line2D at 0x161169aac60>,\n",
       " <matplotlib.lines.Line2D at 0x161169aaf00>,\n",
       " <matplotlib.lines.Line2D at 0x161169aaff0>,\n",
       " <matplotlib.lines.Line2D at 0x161169ab0e0>,\n",
       " <matplotlib.lines.Line2D at 0x161169ab1d0>]"
      ]
     },
     "execution_count": 7,
     "metadata": {},
     "output_type": "execute_result"
    },
    {
     "data": {
      "image/png": "[encoded data removed]",
      "text/plain": [
       "<Figure size 640x480 with 1 Axes>"
      ]
     },
     "metadata": {},
     "output_type": "display_data"
    }
   ],
   "source": [
    "plt.plot(overlaps)"
   ]
  },
  {
   "cell_type": "markdown",
   "id": "71e2449e",
   "metadata": {},
   "source": [
    "The overlap of the state S(t) with pattern 1 stays constant because the inital state is percisely already a retrieved pattern therefore, it is already in a stable state."
   ]
  },
  {
   "cell_type": "markdown",
   "id": "7e3884e5",
   "metadata": {},
   "source": [
    "### 1.2"
   ]
  },
  {
   "cell_type": "code",
   "execution_count": 8,
   "id": "232128c0",
   "metadata": {},
   "outputs": [],
   "source": [
    "P = 200\n",
    "N = 300"
   ]
  },
  {
   "cell_type": "code",
   "execution_count": 9,
   "id": "231a373b",
   "metadata": {},
   "outputs": [],
   "source": [
    "network = HopfieldNetwork(N,P)\n",
    "#Setting inital state as the first pattern\n",
    "network.set_states(network.patterns[0].copy())\n",
    "network.overlaps = network.compute_overlap()"
   ]
  },
  {
   "cell_type": "code",
   "execution_count": 10,
   "id": "1f687332",
   "metadata": {},
   "outputs": [
    {
     "name": "stdout",
     "output_type": "stream",
     "text": [
      "Overlap with patterns at the inital state\n",
      "[1.0, -0.12000000000000001, 0.0, 0.04, 0.02666666666666667, -0.02666666666666667, 0.013333333333333334, -0.08, -0.04, 0.04, -0.04, 0.0, -0.06666666666666667, 0.05333333333333334, -0.05333333333333334, -0.013333333333333334, 0.05333333333333334, 0.06666666666666667, -0.04, 0.013333333333333334, 0.0, 0.013333333333333334, -0.02666666666666667, -0.09333333333333334, 0.0, 0.09333333333333334, -0.02666666666666667, 0.0, -0.02666666666666667, 0.05333333333333334, -0.06666666666666667, 0.04, 0.09333333333333334, -0.05333333333333334, 0.0, 0.0, 0.06666666666666667, 0.08, -0.05333333333333334, 0.08, -0.08, 0.06666666666666667, 0.05333333333333334, 0.06666666666666667, -0.02666666666666667, 0.04, 0.05333333333333334, 0.08, 0.0, 0.13333333333333333, -0.02666666666666667, -0.02666666666666667, 0.04, -0.02666666666666667, 0.05333333333333334, 0.02666666666666667, 0.02666666666666667, -0.08, 0.0, 0.04, -0.04, -0.04, 0.02666666666666667, 0.013333333333333334, 0.12000000000000001, 0.06666666666666667, -0.013333333333333334, -0.13333333333333333, 0.02666666666666667, 0.10666666666666667, -0.02666666666666667, -0.13333333333333333, -0.02666666666666667, -0.013333333333333334, 0.08, 0.013333333333333334, 0.0, 0.0, 0.06666666666666667, 0.10666666666666667, 0.06666666666666667, -0.02666666666666667, -0.16, -0.013333333333333334, 0.04, -0.02666666666666667, -0.09333333333333334, -0.14666666666666667, 0.02666666666666667, 0.0, 0.10666666666666667, 0.02666666666666667, 0.02666666666666667, -0.06666666666666667, 0.02666666666666667, 0.0, -0.02666666666666667, 0.0, 0.04, 0.08, 0.0, -0.04, -0.04, -0.04, -0.02666666666666667, -0.05333333333333334, 0.02666666666666667, -0.08, 0.09333333333333334, 0.013333333333333334, -0.06666666666666667, 0.09333333333333334, -0.06666666666666667, -0.013333333333333334, 0.04, 0.06666666666666667, -0.013333333333333334, 0.05333333333333334, -0.04, -0.02666666666666667, 0.02666666666666667, -0.04, -0.06666666666666667, -0.013333333333333334, 0.08, 0.06666666666666667, 0.013333333333333334, -0.08, 0.013333333333333334, 0.02666666666666667, -0.013333333333333334, 0.13333333333333333, -0.02666666666666667, 0.02666666666666667, 0.06666666666666667, -0.04, 0.02666666666666667, -0.06666666666666667, 0.10666666666666667, 0.04, 0.06666666666666667, 0.02666666666666667, 0.02666666666666667, -0.04, 0.05333333333333334, 0.0, -0.06666666666666667, 0.0, -0.013333333333333334, 0.05333333333333334, 0.04, 0.09333333333333334, 0.02666666666666667, 0.02666666666666667, -0.02666666666666667, 0.013333333333333334, 0.04, 0.013333333333333334, -0.013333333333333334, 0.0, -0.08, 0.04, -0.013333333333333334, 0.02666666666666667, 0.0, 0.0, 0.02666666666666667, 0.02666666666666667, 0.05333333333333334, 0.0, -0.02666666666666667, 0.08, 0.10666666666666667, 0.02666666666666667, 0.06666666666666667, -0.02666666666666667, -0.08, 0.013333333333333334, -0.013333333333333334, -0.08, -0.06666666666666667, 0.0, -0.02666666666666667, 0.04, -0.08, -0.08, -0.12000000000000001, 0.02666666666666667, -0.06666666666666667, 0.04, -0.06666666666666667, -0.013333333333333334, -0.14666666666666667, -0.02666666666666667, -0.013333333333333334, 0.0, -0.02666666666666667, -0.12000000000000001, -0.10666666666666667, -0.09333333333333334]\n"
     ]
    }
   ],
   "source": [
    "t = 5\n",
    "overlaps = np.zeros((t,P))\n",
    "print(\"Overlap with patterns at the inital state\")\n",
    "print(network.overlaps)"
   ]
  },
  {
   "cell_type": "code",
   "execution_count": 11,
   "id": "be527eb6",
   "metadata": {},
   "outputs": [
    {
     "name": "stdout",
     "output_type": "stream",
     "text": [
      "4\n",
      "Converged\n"
     ]
    }
   ],
   "source": [
    "for step in range(t):\n",
    "    curr_state = network.states\n",
    "    new_state = network.compute_next_state_fast()\n",
    "    if all(curr_state == new_state):\n",
    "        print(step)\n",
    "        print(\"Converged\")\n",
    "    overlaps[step, :] = network.overlaps"
   ]
  },
  {
   "cell_type": "code",
   "execution_count": 12,
   "id": "80551df4",
   "metadata": {},
   "outputs": [
    {
     "data": {
      "text/plain": [
       "0.15333333333333335"
      ]
     },
     "execution_count": 12,
     "metadata": {},
     "output_type": "execute_result"
    }
   ],
   "source": [
    "max(overlaps[-1][1:])"
   ]
  },
  {
   "cell_type": "code",
   "execution_count": 13,
   "id": "314097af",
   "metadata": {},
   "outputs": [
    {
     "data": {
      "text/plain": [
       "[<matplotlib.lines.Line2D at 0x1611688bd70>,\n",
       " <matplotlib.lines.Line2D at 0x16118b46870>,\n",
       " <matplotlib.lines.Line2D at 0x1616b5e74a0>,\n",
       " <matplotlib.lines.Line2D at 0x16118bc17f0>,\n",
       " <matplotlib.lines.Line2D at 0x16118bc1a00>,\n",
       " <matplotlib.lines.Line2D at 0x16118bc1af0>,\n",
       " <matplotlib.lines.Line2D at 0x16118bc1be0>,\n",
       " <matplotlib.lines.Line2D at 0x16118bc1cd0>,\n",
       " <matplotlib.lines.Line2D at 0x16118bc1dc0>,\n",
       " <matplotlib.lines.Line2D at 0x16118bc1eb0>,\n",
       " <matplotlib.lines.Line2D at 0x16118bc1fa0>,\n",
       " <matplotlib.lines.Line2D at 0x16118bc2090>,\n",
       " <matplotlib.lines.Line2D at 0x16118bc2180>,\n",
       " <matplotlib.lines.Line2D at 0x16118bc2270>,\n",
       " <matplotlib.lines.Line2D at 0x16118bc2360>,\n",
       " <matplotlib.lines.Line2D at 0x16118bc2450>,\n",
       " <matplotlib.lines.Line2D at 0x16118bc2540>,\n",
       " <matplotlib.lines.Line2D at 0x16118bc2630>,\n",
       " <matplotlib.lines.Line2D at 0x16118bc2720>,\n",
       " <matplotlib.lines.Line2D at 0x16118b58560>,\n",
       " <matplotlib.lines.Line2D at 0x16118bc2810>,\n",
       " <matplotlib.lines.Line2D at 0x16118bc29c0>,\n",
       " <matplotlib.lines.Line2D at 0x16118bc2ab0>,\n",
       " <matplotlib.lines.Line2D at 0x16118bc2ba0>,\n",
       " <matplotlib.lines.Line2D at 0x16118bc2c90>,\n",
       " <matplotlib.lines.Line2D at 0x16118bc2d80>,\n",
       " <matplotlib.lines.Line2D at 0x16118bc2e70>,\n",
       " <matplotlib.lines.Line2D at 0x16118bc2f60>,\n",
       " <matplotlib.lines.Line2D at 0x16118bc3050>,\n",
       " <matplotlib.lines.Line2D at 0x16118bc3140>,\n",
       " <matplotlib.lines.Line2D at 0x161169f9310>,\n",
       " <matplotlib.lines.Line2D at 0x161169f9280>,\n",
       " <matplotlib.lines.Line2D at 0x16118bc3230>,\n",
       " <matplotlib.lines.Line2D at 0x16118bc34a0>,\n",
       " <matplotlib.lines.Line2D at 0x16118bc3590>,\n",
       " <matplotlib.lines.Line2D at 0x16118b5a4e0>,\n",
       " <matplotlib.lines.Line2D at 0x16118bc3680>,\n",
       " <matplotlib.lines.Line2D at 0x16118b7bdd0>,\n",
       " <matplotlib.lines.Line2D at 0x16118b7be00>,\n",
       " <matplotlib.lines.Line2D at 0x16118b44890>,\n",
       " <matplotlib.lines.Line2D at 0x161169d9190>,\n",
       " <matplotlib.lines.Line2D at 0x161169d8fb0>,\n",
       " <matplotlib.lines.Line2D at 0x161169d8d40>,\n",
       " <matplotlib.lines.Line2D at 0x16118bc3980>,\n",
       " <matplotlib.lines.Line2D at 0x16118bc3aa0>,\n",
       " <matplotlib.lines.Line2D at 0x16118bc3b90>,\n",
       " <matplotlib.lines.Line2D at 0x16118bc3c80>,\n",
       " <matplotlib.lines.Line2D at 0x16118bc3d70>,\n",
       " <matplotlib.lines.Line2D at 0x16118bc3e60>,\n",
       " <matplotlib.lines.Line2D at 0x16118bc3f50>,\n",
       " <matplotlib.lines.Line2D at 0x16118be8080>,\n",
       " <matplotlib.lines.Line2D at 0x16118be8170>,\n",
       " <matplotlib.lines.Line2D at 0x16118b59640>,\n",
       " <matplotlib.lines.Line2D at 0x16118be8260>,\n",
       " <matplotlib.lines.Line2D at 0x16118bc0c80>,\n",
       " <matplotlib.lines.Line2D at 0x16118be83e0>,\n",
       " <matplotlib.lines.Line2D at 0x16118be8590>,\n",
       " <matplotlib.lines.Line2D at 0x16118be8680>,\n",
       " <matplotlib.lines.Line2D at 0x16118be8770>,\n",
       " <matplotlib.lines.Line2D at 0x16118be8860>,\n",
       " <matplotlib.lines.Line2D at 0x16118be8950>,\n",
       " <matplotlib.lines.Line2D at 0x16118be8a40>,\n",
       " <matplotlib.lines.Line2D at 0x16118be8b30>,\n",
       " <matplotlib.lines.Line2D at 0x16118be8c20>,\n",
       " <matplotlib.lines.Line2D at 0x16118be8d10>,\n",
       " <matplotlib.lines.Line2D at 0x16118be8e00>,\n",
       " <matplotlib.lines.Line2D at 0x16118be8ef0>,\n",
       " <matplotlib.lines.Line2D at 0x16118be8fe0>,\n",
       " <matplotlib.lines.Line2D at 0x16118be90d0>,\n",
       " <matplotlib.lines.Line2D at 0x16118be91c0>,\n",
       " <matplotlib.lines.Line2D at 0x16118be92b0>,\n",
       " <matplotlib.lines.Line2D at 0x16118be93a0>,\n",
       " <matplotlib.lines.Line2D at 0x16118be9490>,\n",
       " <matplotlib.lines.Line2D at 0x16118be9580>,\n",
       " <matplotlib.lines.Line2D at 0x16118be9670>,\n",
       " <matplotlib.lines.Line2D at 0x16118be9760>,\n",
       " <matplotlib.lines.Line2D at 0x16118b474d0>,\n",
       " <matplotlib.lines.Line2D at 0x16118be9850>,\n",
       " <matplotlib.lines.Line2D at 0x16118be9a00>,\n",
       " <matplotlib.lines.Line2D at 0x16118be9af0>,\n",
       " <matplotlib.lines.Line2D at 0x16118b47950>,\n",
       " <matplotlib.lines.Line2D at 0x16118be9be0>,\n",
       " <matplotlib.lines.Line2D at 0x16118be9d90>,\n",
       " <matplotlib.lines.Line2D at 0x16118be9e80>,\n",
       " <matplotlib.lines.Line2D at 0x16118b44f50>,\n",
       " <matplotlib.lines.Line2D at 0x16118be9f70>,\n",
       " <matplotlib.lines.Line2D at 0x16118bea120>,\n",
       " <matplotlib.lines.Line2D at 0x16118bea210>,\n",
       " <matplotlib.lines.Line2D at 0x16118bea300>,\n",
       " <matplotlib.lines.Line2D at 0x16118bea3f0>,\n",
       " <matplotlib.lines.Line2D at 0x16118b46ba0>,\n",
       " <matplotlib.lines.Line2D at 0x16118bea4e0>,\n",
       " <matplotlib.lines.Line2D at 0x16118bea690>,\n",
       " <matplotlib.lines.Line2D at 0x16118bea780>,\n",
       " <matplotlib.lines.Line2D at 0x16118bea870>,\n",
       " <matplotlib.lines.Line2D at 0x16118bea960>,\n",
       " <matplotlib.lines.Line2D at 0x16118beaa50>,\n",
       " <matplotlib.lines.Line2D at 0x16118beab40>,\n",
       " <matplotlib.lines.Line2D at 0x16118beac30>,\n",
       " <matplotlib.lines.Line2D at 0x16118beacf0>,\n",
       " <matplotlib.lines.Line2D at 0x16118beade0>,\n",
       " <matplotlib.lines.Line2D at 0x16118beaed0>,\n",
       " <matplotlib.lines.Line2D at 0x16118beafc0>,\n",
       " <matplotlib.lines.Line2D at 0x16118beb0b0>,\n",
       " <matplotlib.lines.Line2D at 0x16118beb1a0>,\n",
       " <matplotlib.lines.Line2D at 0x16118beb290>,\n",
       " <matplotlib.lines.Line2D at 0x161169f96a0>,\n",
       " <matplotlib.lines.Line2D at 0x16118beb380>,\n",
       " <matplotlib.lines.Line2D at 0x16118beb530>,\n",
       " <matplotlib.lines.Line2D at 0x16118beb620>,\n",
       " <matplotlib.lines.Line2D at 0x16118beb710>,\n",
       " <matplotlib.lines.Line2D at 0x16118beb800>,\n",
       " <matplotlib.lines.Line2D at 0x16118beb8f0>,\n",
       " <matplotlib.lines.Line2D at 0x16118beb9e0>,\n",
       " <matplotlib.lines.Line2D at 0x16118bebad0>,\n",
       " <matplotlib.lines.Line2D at 0x16118bebbc0>,\n",
       " <matplotlib.lines.Line2D at 0x161168afad0>,\n",
       " <matplotlib.lines.Line2D at 0x16118b47f50>,\n",
       " <matplotlib.lines.Line2D at 0x16118bebcb0>,\n",
       " <matplotlib.lines.Line2D at 0x16118bebf20>,\n",
       " <matplotlib.lines.Line2D at 0x16118c00050>,\n",
       " <matplotlib.lines.Line2D at 0x16118c00140>,\n",
       " <matplotlib.lines.Line2D at 0x16118c00230>,\n",
       " <matplotlib.lines.Line2D at 0x16118c00320>,\n",
       " <matplotlib.lines.Line2D at 0x16118c00410>,\n",
       " <matplotlib.lines.Line2D at 0x16118c00500>,\n",
       " <matplotlib.lines.Line2D at 0x16118c005f0>,\n",
       " <matplotlib.lines.Line2D at 0x16118c006e0>,\n",
       " <matplotlib.lines.Line2D at 0x16118c007d0>,\n",
       " <matplotlib.lines.Line2D at 0x16118c008c0>,\n",
       " <matplotlib.lines.Line2D at 0x16118c009b0>,\n",
       " <matplotlib.lines.Line2D at 0x16118b46d50>,\n",
       " <matplotlib.lines.Line2D at 0x16118c00aa0>,\n",
       " <matplotlib.lines.Line2D at 0x16118c00c50>,\n",
       " <matplotlib.lines.Line2D at 0x16118c00d40>,\n",
       " <matplotlib.lines.Line2D at 0x16118c00e30>,\n",
       " <matplotlib.lines.Line2D at 0x16118c00f20>,\n",
       " <matplotlib.lines.Line2D at 0x16118c01010>,\n",
       " <matplotlib.lines.Line2D at 0x16118c01100>,\n",
       " <matplotlib.lines.Line2D at 0x16118c011f0>,\n",
       " <matplotlib.lines.Line2D at 0x16118c012e0>,\n",
       " <matplotlib.lines.Line2D at 0x16118c013d0>,\n",
       " <matplotlib.lines.Line2D at 0x16118c014c0>,\n",
       " <matplotlib.lines.Line2D at 0x16118c015b0>,\n",
       " <matplotlib.lines.Line2D at 0x16118c016a0>,\n",
       " <matplotlib.lines.Line2D at 0x16118b45cd0>,\n",
       " <matplotlib.lines.Line2D at 0x16118c01790>,\n",
       " <matplotlib.lines.Line2D at 0x16118c01940>,\n",
       " <matplotlib.lines.Line2D at 0x16118c01a30>,\n",
       " <matplotlib.lines.Line2D at 0x16118c01b20>,\n",
       " <matplotlib.lines.Line2D at 0x16116976ba0>,\n",
       " <matplotlib.lines.Line2D at 0x16118c01c10>,\n",
       " <matplotlib.lines.Line2D at 0x16118c01dc0>,\n",
       " <matplotlib.lines.Line2D at 0x16118c01eb0>,\n",
       " <matplotlib.lines.Line2D at 0x16118c01fa0>,\n",
       " <matplotlib.lines.Line2D at 0x16118c02090>,\n",
       " <matplotlib.lines.Line2D at 0x16118c02180>,\n",
       " <matplotlib.lines.Line2D at 0x16118c02270>,\n",
       " <matplotlib.lines.Line2D at 0x16118c02360>,\n",
       " <matplotlib.lines.Line2D at 0x16118c02450>,\n",
       " <matplotlib.lines.Line2D at 0x16118c02540>,\n",
       " <matplotlib.lines.Line2D at 0x16118c02630>,\n",
       " <matplotlib.lines.Line2D at 0x16118c02720>,\n",
       " <matplotlib.lines.Line2D at 0x16118c02810>,\n",
       " <matplotlib.lines.Line2D at 0x16118c02900>,\n",
       " <matplotlib.lines.Line2D at 0x16118c029f0>,\n",
       " <matplotlib.lines.Line2D at 0x16118c02ae0>,\n",
       " <matplotlib.lines.Line2D at 0x16118c02bd0>,\n",
       " <matplotlib.lines.Line2D at 0x16118c02cc0>,\n",
       " <matplotlib.lines.Line2D at 0x16118c02db0>,\n",
       " <matplotlib.lines.Line2D at 0x16118c02ea0>,\n",
       " <matplotlib.lines.Line2D at 0x16118c02f90>,\n",
       " <matplotlib.lines.Line2D at 0x16118c03080>,\n",
       " <matplotlib.lines.Line2D at 0x16118c03170>,\n",
       " <matplotlib.lines.Line2D at 0x16118c03260>,\n",
       " <matplotlib.lines.Line2D at 0x16118c03350>,\n",
       " <matplotlib.lines.Line2D at 0x16118c03440>,\n",
       " <matplotlib.lines.Line2D at 0x16118c03530>,\n",
       " <matplotlib.lines.Line2D at 0x16118c03620>,\n",
       " <matplotlib.lines.Line2D at 0x16118c036e0>,\n",
       " <matplotlib.lines.Line2D at 0x16118c037d0>,\n",
       " <matplotlib.lines.Line2D at 0x16118c038c0>,\n",
       " <matplotlib.lines.Line2D at 0x16118b460f0>,\n",
       " <matplotlib.lines.Line2D at 0x16118c039b0>,\n",
       " <matplotlib.lines.Line2D at 0x16118c03b60>,\n",
       " <matplotlib.lines.Line2D at 0x16118c03c50>,\n",
       " <matplotlib.lines.Line2D at 0x16118b59580>,\n",
       " <matplotlib.lines.Line2D at 0x16118c03d40>,\n",
       " <matplotlib.lines.Line2D at 0x16118c03ef0>,\n",
       " <matplotlib.lines.Line2D at 0x16118c03fe0>,\n",
       " <matplotlib.lines.Line2D at 0x16118c240e0>,\n",
       " <matplotlib.lines.Line2D at 0x161169abb00>,\n",
       " <matplotlib.lines.Line2D at 0x16118c241d0>,\n",
       " <matplotlib.lines.Line2D at 0x16118c24380>,\n",
       " <matplotlib.lines.Line2D at 0x16118c24470>,\n",
       " <matplotlib.lines.Line2D at 0x16118c24560>,\n",
       " <matplotlib.lines.Line2D at 0x16118c24650>,\n",
       " <matplotlib.lines.Line2D at 0x16118c24740>,\n",
       " <matplotlib.lines.Line2D at 0x16118c24830>,\n",
       " <matplotlib.lines.Line2D at 0x16118c24920>]"
      ]
     },
     "execution_count": 13,
     "metadata": {},
     "output_type": "execute_result"
    },
    {
     "data": {
      "image/png": "[encoded data removed]",
      "text/plain": [
       "<Figure size 640x480 with 1 Axes>"
      ]
     },
     "metadata": {},
     "output_type": "display_data"
    }
   ],
   "source": [
    "plt.plot(overlaps)"
   ]
  },
  {
   "cell_type": "markdown",
   "id": "7686e091",
   "metadata": {},
   "source": [
    "Why does the overlap m1(t) drop below 1? What does the network converge to instead of the first pattern?\n",
    "Because the number of patterns is approching the number of neurons, this number of patterns is too big for the memory capacity of N neurons, meaning that if the inital state is identical to a pattern it moves away. The patterns become to similar, also making the probability of a flip bigger?, it converges to a state with 2 flipped bits. "
   ]
  },
  {
   "cell_type": "markdown",
   "id": "98ccb1d6",
   "metadata": {},
   "source": [
    "### 1.3 \n",
    "Plot the overlap with all patterns over the time step t. Why does\n",
    "the overlap m1(t) increase to 1 across time?"
   ]
  },
  {
   "cell_type": "code",
   "execution_count": 8,
   "id": "c9bb5a99",
   "metadata": {},
   "outputs": [],
   "source": [
    "N = 600\n",
    "P = 20\n",
    "t = 30"
   ]
  },
  {
   "cell_type": "code",
   "execution_count": null,
   "id": "d47bc9cc",
   "metadata": {},
   "outputs": [
    {
     "data": {
      "text/plain": [
       "[0.33333333333333337,\n",
       " 0.03333333333333333,\n",
       " -0.07333333333333333,\n",
       " -0.060000000000000005,\n",
       " 0.12666666666666668,\n",
       " 0.013333333333333334,\n",
       " 0.013333333333333334,\n",
       " -0.06666666666666667,\n",
       " 0.013333333333333334,\n",
       " -0.03333333333333333,\n",
       " 0.0,\n",
       " 0.02666666666666667,\n",
       " -0.04666666666666667,\n",
       " 0.0,\n",
       " 0.060000000000000005,\n",
       " -0.05333333333333334,\n",
       " 0.0,\n",
       " 0.013333333333333334,\n",
       " -0.05333333333333334,\n",
       " -0.02]"
      ]
     },
     "execution_count": 9,
     "metadata": {},
     "output_type": "execute_result"
    }
   ],
   "source": [
    "network = HopfieldNetwork(N,P)\n",
    "#Setting inital state as the first pattern with 200 bits flipped\n",
    "initial = network.patterns[0].copy()\n",
    "N_flipped = 200\n",
    "random_numbers = random.sample(range(600), N_flipped)\n",
    "initial[random_numbers] = initial[random_numbers]*-1\n",
    "network.set_states(initial)\n",
    "network.compute_overlap()"
   ]
  },
  {
   "cell_type": "code",
   "execution_count": 10,
   "id": "7910e347",
   "metadata": {},
   "outputs": [
    {
     "name": "stdout",
     "output_type": "stream",
     "text": [
      "[0.33333333333333337, 0.03333333333333333, -0.07333333333333333, -0.060000000000000005, 0.12666666666666668, 0.013333333333333334, 0.013333333333333334, -0.06666666666666667, 0.013333333333333334, -0.03333333333333333, 0.0, 0.02666666666666667, -0.04666666666666667, 0.0, 0.060000000000000005, -0.05333333333333334, 0.0, 0.013333333333333334, -0.05333333333333334, -0.02]\n"
     ]
    }
   ],
   "source": [
    "overlaps = np.zeros((t,P))\n",
    "print(network.overlaps)"
   ]
  },
  {
   "cell_type": "code",
   "execution_count": 11,
   "id": "2b9cdb82",
   "metadata": {},
   "outputs": [],
   "source": [
    "for step in range(t):\n",
    "    new_state = network.compute_next_state_fast()\n",
    "    overlaps[step, :] = network.overlaps.copy()"
   ]
  },
  {
   "cell_type": "code",
   "execution_count": 12,
   "id": "e786302b",
   "metadata": {},
   "outputs": [
    {
     "data": {
      "text/plain": [
       "[<matplotlib.lines.Line2D at 0x18fbc513710>,\n",
       " <matplotlib.lines.Line2D at 0x18fbc513740>,\n",
       " <matplotlib.lines.Line2D at 0x18fbc5133b0>,\n",
       " <matplotlib.lines.Line2D at 0x18fbc5138c0>,\n",
       " <matplotlib.lines.Line2D at 0x18fbc4a7fb0>,\n",
       " <matplotlib.lines.Line2D at 0x18fbc5139b0>,\n",
       " <matplotlib.lines.Line2D at 0x18fbc513b60>,\n",
       " <matplotlib.lines.Line2D at 0x18fbc513c50>,\n",
       " <matplotlib.lines.Line2D at 0x18fbc513d40>,\n",
       " <matplotlib.lines.Line2D at 0x18fbc513e30>,\n",
       " <matplotlib.lines.Line2D at 0x18fbc513f20>,\n",
       " <matplotlib.lines.Line2D at 0x18fbc544050>,\n",
       " <matplotlib.lines.Line2D at 0x18fbc544140>,\n",
       " <matplotlib.lines.Line2D at 0x18fbc544200>,\n",
       " <matplotlib.lines.Line2D at 0x18fbc5442f0>,\n",
       " <matplotlib.lines.Line2D at 0x18fbc5443e0>,\n",
       " <matplotlib.lines.Line2D at 0x18fbc5444d0>,\n",
       " <matplotlib.lines.Line2D at 0x18fbc5445c0>,\n",
       " <matplotlib.lines.Line2D at 0x18fbc3c83e0>,\n",
       " <matplotlib.lines.Line2D at 0x18fbc5446b0>]"
      ]
     },
     "execution_count": 12,
     "metadata": {},
     "output_type": "execute_result"
    },
    {
     "data": {
      "image/png": "[encoded data removed]",
      "text/plain": [
       "<Figure size 640x480 with 1 Axes>"
      ]
     },
     "metadata": {},
     "output_type": "display_data"
    }
   ],
   "source": [
    "plt.plot(overlaps)"
   ]
  },
  {
   "cell_type": "markdown",
   "id": "127dbfcc",
   "metadata": {},
   "source": [
    "It converges, because the inital state is the most similar to that pattern, so the pattern retrieval will converge towards the most similar patterns, also because N >> P, so there is enough memory capacity"
   ]
  },
  {
   "cell_type": "markdown",
   "id": "e47af7d0",
   "metadata": {},
   "source": [
    "### 1.4 "
   ]
  },
  {
   "cell_type": "code",
   "execution_count": 13,
   "id": "ac842f0b",
   "metadata": {},
   "outputs": [],
   "source": [
    "N = 600\n",
    "P = 20\n",
    "t = 30"
   ]
  },
  {
   "cell_type": "code",
   "execution_count": 14,
   "id": "40faae71",
   "metadata": {},
   "outputs": [
    {
     "data": {
      "text/plain": [
       "[0.0,\n",
       " -0.06666666666666667,\n",
       " 0.013333333333333334,\n",
       " 0.03333333333333333,\n",
       " -0.006666666666666667,\n",
       " -0.06666666666666667,\n",
       " 0.0,\n",
       " -0.11333333333333334,\n",
       " -0.013333333333333334,\n",
       " 0.0,\n",
       " 0.006666666666666667,\n",
       " 0.02,\n",
       " 0.013333333333333334,\n",
       " 0.04,\n",
       " -0.013333333333333334,\n",
       " 0.02,\n",
       " 0.0,\n",
       " 0.0,\n",
       " -0.02,\n",
       " -0.04]"
      ]
     },
     "execution_count": 14,
     "metadata": {},
     "output_type": "execute_result"
    }
   ],
   "source": [
    "network = HopfieldNetwork(N,P)\n",
    "#Setting inital state as the first pattern with 200 bits flipped\n",
    "initial = network.patterns[0].copy()\n",
    "N_flipped = 300\n",
    "random_numbers = random.sample(range(600), N_flipped)\n",
    "initial[random_numbers] = initial[random_numbers]*-1\n",
    "network.set_states(initial)\n",
    "network.compute_overlap()"
   ]
  },
  {
   "cell_type": "code",
   "execution_count": 15,
   "id": "e2b4794e",
   "metadata": {},
   "outputs": [
    {
     "name": "stdout",
     "output_type": "stream",
     "text": [
      "[0.0, -0.06666666666666667, 0.013333333333333334, 0.03333333333333333, -0.006666666666666667, -0.06666666666666667, 0.0, -0.11333333333333334, -0.013333333333333334, 0.0, 0.006666666666666667, 0.02, 0.013333333333333334, 0.04, -0.013333333333333334, 0.02, 0.0, 0.0, -0.02, -0.04]\n"
     ]
    }
   ],
   "source": [
    "overlaps = np.zeros((t,P))\n",
    "print(network.overlaps)"
   ]
  },
  {
   "cell_type": "code",
   "execution_count": 16,
   "id": "a2ba4f60",
   "metadata": {},
   "outputs": [],
   "source": [
    "for step in range(t):\n",
    "    new_state = network.compute_next_state_fast()\n",
    "    overlaps[step, :] = network.overlaps.copy()"
   ]
  },
  {
   "cell_type": "code",
   "execution_count": 18,
   "id": "153b6f85",
   "metadata": {},
   "outputs": [
    {
     "data": {
      "text/plain": [
       "[<matplotlib.lines.Line2D at 0x18fbf7ecef0>,\n",
       " <matplotlib.lines.Line2D at 0x18fbf7ecf20>,\n",
       " <matplotlib.lines.Line2D at 0x18fbf7ed010>,\n",
       " <matplotlib.lines.Line2D at 0x18fbf7ed100>,\n",
       " <matplotlib.lines.Line2D at 0x18fbf7ed1f0>,\n",
       " <matplotlib.lines.Line2D at 0x18fbf7ed2e0>,\n",
       " <matplotlib.lines.Line2D at 0x18fbf7ed3d0>,\n",
       " <matplotlib.lines.Line2D at 0x18fbf7ed4c0>,\n",
       " <matplotlib.lines.Line2D at 0x18fbf7ed5b0>,\n",
       " <matplotlib.lines.Line2D at 0x18fbc6417f0>,\n",
       " <matplotlib.lines.Line2D at 0x18fbf7ed6a0>,\n",
       " <matplotlib.lines.Line2D at 0x18fbf7ed850>,\n",
       " <matplotlib.lines.Line2D at 0x18fbf7ed940>,\n",
       " <matplotlib.lines.Line2D at 0x18fbf7eda30>,\n",
       " <matplotlib.lines.Line2D at 0x18fbf7edb20>,\n",
       " <matplotlib.lines.Line2D at 0x18fbf7edc10>,\n",
       " <matplotlib.lines.Line2D at 0x18fbf7edd00>,\n",
       " <matplotlib.lines.Line2D at 0x18fbf7eddf0>,\n",
       " <matplotlib.lines.Line2D at 0x18fbf7edee0>,\n",
       " <matplotlib.lines.Line2D at 0x18fbf7edfd0>]"
      ]
     },
     "execution_count": 18,
     "metadata": {},
     "output_type": "execute_result"
    },
    {
     "data": {
      "image/png": "[encoded data removed]",
      "text/plain": [
       "<Figure size 640x480 with 1 Axes>"
      ]
     },
     "metadata": {},
     "output_type": "display_data"
    }
   ],
   "source": [
    "plt.plot(overlaps)"
   ]
  },
  {
   "cell_type": "markdown",
   "id": "c9007001",
   "metadata": {},
   "source": [
    "It kinda converges to some steady state around 0."
   ]
  },
  {
   "cell_type": "markdown",
   "id": "93297c7d",
   "metadata": {},
   "source": [
    "### 1.5\n",
    "The size of the 'basin of attraction'"
   ]
  },
  {
   "cell_type": "code",
   "execution_count": 3,
   "id": "ff049148",
   "metadata": {},
   "outputs": [],
   "source": [
    "N_flipped = [0, 30, 60, 90, 120, 150, 180, 210, 240, 270, 300]\n",
    "P = [20, 40, 60]\n",
    "t = 20\n",
    "N = 600"
   ]
  },
  {
   "cell_type": "code",
   "execution_count": 5,
   "id": "51874656",
   "metadata": {},
   "outputs": [],
   "source": [
    "results = []\n",
    "for p in P:\n",
    "    network = HopfieldNetwork(N,p)\n",
    "    for_p = {}\n",
    "    for i in range(p):\n",
    "        initial = network.patterns[i].copy()\n",
    "        for_n = {}\n",
    "        for n in N_flipped:\n",
    "            random_numbers = random.sample(range(N), n)\n",
    "            initial[random_numbers] = initial[random_numbers]*-1\n",
    "            network.set_states(initial)\n",
    "            network.compute_overlap()\n",
    "            overlaps = np.zeros((t,p))\n",
    "            retrived = False\n",
    "            for step in range(t):\n",
    "                new_state = network.compute_next_state_fast()\n",
    "                overlaps[step, :] = network.overlaps.copy()\n",
    "                if network.overlaps[i]==1:\n",
    "                    retrived = True\n",
    "            for_n.update({n:(overlaps, retrived)})\n",
    "        for_p.update({i:for_n})\n",
    "    results.append(for_p)"
   ]
  },
  {
   "cell_type": "code",
   "execution_count": 14,
   "id": "b7ec5de5",
   "metadata": {},
   "outputs": [
    {
     "data": {
      "text/plain": [
       "dict_keys([0, 1, 2, 3, 4, 5, 6, 7, 8, 9, 10, 11, 12, 13, 14, 15, 16, 17, 18, 19])"
      ]
     },
     "execution_count": 14,
     "metadata": {},
     "output_type": "execute_result"
    }
   ],
   "source": [
    "results[0].keys()"
   ]
  },
  {
   "cell_type": "code",
   "execution_count": 19,
   "id": "a3014a3a",
   "metadata": {},
   "outputs": [],
   "source": [
    "plot_data = []\n",
    "for data in results:\n",
    "    fractions_per_flipped = {}\n",
    "    for pattern,value in data.items():\n",
    "        for n_flipped, output in value.items():\n",
    "            if fractions_per_flipped.get(n_flipped)==None:\n",
    "                a = 0\n",
    "                if output[1]:\n",
    "                    a = 1\n",
    "                fractions_per_flipped.update({n_flipped:a})\n",
    "            else:\n",
    "                if output[1]:\n",
    "                    v = fractions_per_flipped.get(n_flipped)\n",
    "                    fractions_per_flipped.update({n_flipped:v+1})\n",
    "    plot_data.append(fractions_per_flipped)"
   ]
  },
  {
   "cell_type": "code",
   "execution_count": 26,
   "id": "aa2658ec",
   "metadata": {},
   "outputs": [
    {
     "data": {
      "image/png": "[encoded data removed]",
      "text/plain": [
       "<Figure size 640x480 with 1 Axes>"
      ]
     },
     "metadata": {},
     "output_type": "display_data"
    },
    {
     "data": {
      "image/png": "[encoded data removed]",
      "text/plain": [
       "<Figure size 640x480 with 1 Axes>"
      ]
     },
     "metadata": {},
     "output_type": "display_data"
    },
    {
     "data": {
      "image/png": "[encoded data removed]",
      "text/plain": [
       "<Figure size 640x480 with 1 Axes>"
      ]
     },
     "metadata": {},
     "output_type": "display_data"
    }
   ],
   "source": [
    "for i in range(len(plot_data)):\n",
    "    p = P[i]\n",
    "    data = plot_data[i]\n",
    "    x= [nflip / N for nflip in data.keys()]\n",
    "    y = [x/p for x in list(data.values())]\n",
    "    # Plot\n",
    "    plt.figure()\n",
    "    plt.plot(x, y, marker='o')\n",
    "    plt.title(f'Fraction vs nflip/N for P = {p}')\n",
    "    plt.xlabel('nflip / N')\n",
    "    plt.ylabel('Fraction')\n",
    "    plt.grid(True)\n",
    "    plt.tight_layout()\n",
    "    plt.show()"
   ]
  },
  {
   "cell_type": "markdown",
   "id": "30985b1d",
   "metadata": {},
   "source": [
    "### 1.6 \n",
    "Capacity."
   ]
  },
  {
   "cell_type": "code",
   "execution_count": 27,
   "id": "2de0dd28",
   "metadata": {},
   "outputs": [],
   "source": [
    "N = [100, 200, 300, 400, 500, 600, 700, 800, 900, 1000, 1500]"
   ]
  },
  {
   "cell_type": "code",
   "execution_count": 28,
   "id": "654b693e",
   "metadata": {},
   "outputs": [],
   "source": [
    "max_P = {}\n",
    "for n in N:\n",
    "    P = 0\n",
    "    retrive = True\n",
    "    while retrive:\n",
    "        P += 1\n",
    "        for p in range(P):\n",
    "            network = HopfieldNetwork(n,P)\n",
    "            network.set_states(network.patterns[p].copy())\n",
    "            network.compute_overlap()\n",
    "        \n",
    "            new_state = network.compute_next_state_fast()\n",
    "            if network.overlaps[p] != 1:\n",
    "                retrive = False\n",
    "    max_P.update({n:p-1})\n"
   ]
  },
  {
   "cell_type": "code",
   "execution_count": 29,
   "id": "c606d1c9",
   "metadata": {},
   "outputs": [
    {
     "data": {
      "text/plain": [
       "{100: 11,\n",
       " 200: 13,\n",
       " 300: 21,\n",
       " 400: 30,\n",
       " 500: 26,\n",
       " 600: 38,\n",
       " 700: 32,\n",
       " 800: 38,\n",
       " 900: 48,\n",
       " 1000: 46,\n",
       " 1500: 76}"
      ]
     },
     "execution_count": 29,
     "metadata": {},
     "output_type": "execute_result"
    }
   ],
   "source": [
    "max_P"
   ]
  },
  {
   "cell_type": "code",
   "execution_count": null,
   "id": "66b29528",
   "metadata": {},
   "outputs": [
    {
     "data": {
      "image/png": "[encoded data removed]",
      "text/plain": [
       "<Figure size 640x480 with 1 Axes>"
      ]
     },
     "metadata": {},
     "output_type": "display_data"
    }
   ],
   "source": [
    "#plot alpha against N\n",
    "\n",
    "y = [y/x for x,y in max_P.items()]\n",
    "x = N\n",
    "# Plot\n",
    "plt.figure()\n",
    "plt.plot(x, y, marker='o')\n",
    "plt.title(f'P_max/N vs N')\n",
    "plt.xlabel('nflip / N')\n",
    "plt.ylabel('Fraction')\n",
    "plt.grid(True)\n",
    "plt.tight_layout()\n",
    "plt.show()"
   ]
  },
  {
   "cell_type": "markdown",
   "id": "ff7b2250",
   "metadata": {},
   "source": []
  },
  {
   "cell_type": "markdown",
   "id": "0579156b",
   "metadata": {},
   "source": [
    "### 2.2"
   ]
  },
  {
   "cell_type": "code",
   "execution_count": 1,
   "id": "3557102e",
   "metadata": {},
   "outputs": [],
   "source": [
    "import numpy as np\n",
    "from main import HopfieldNetwork\n",
    "import matplotlib.pyplot as plt\n",
    "import random"
   ]
  },
  {
   "cell_type": "code",
   "execution_count": 2,
   "id": "e46a8877",
   "metadata": {},
   "outputs": [],
   "source": [
    "N = 100\n",
    "P = 5\n",
    "K = N/2\n",
    "\n",
    "network = HopfieldNetwork(N,P,K)"
   ]
  },
  {
   "cell_type": "code",
   "execution_count": 4,
   "id": "61759db8",
   "metadata": {},
   "outputs": [
    {
     "ename": "KeyboardInterrupt",
     "evalue": "",
     "output_type": "error",
     "traceback": [
      "\u001b[31m---------------------------------------------------------------------------\u001b[39m",
      "\u001b[31mKeyboardInterrupt\u001b[39m                         Traceback (most recent call last)",
      "\u001b[36mCell\u001b[39m\u001b[36m \u001b[39m\u001b[32mIn[4]\u001b[39m\u001b[32m, line 15\u001b[39m\n\u001b[32m     13\u001b[39m network = HopfieldNetwork(n,P,n/\u001b[32m2\u001b[39m)\n\u001b[32m     14\u001b[39m network.set_states(network.patterns[p].copy())\n\u001b[32m---> \u001b[39m\u001b[32m15\u001b[39m network.compute_overlap()\n\u001b[32m     17\u001b[39m new_state = network.compute_next_state_sparse()\n\u001b[32m     18\u001b[39m \u001b[38;5;28;01mif\u001b[39;00m network.overlaps[p] != \u001b[32m1\u001b[39m:\n\u001b[32m     19\u001b[39m     \u001b[38;5;66;03m# overlap between pattern and state no longer 1\u001b[39;00m\n",
      "\u001b[36mFile \u001b[39m\u001b[32md:\\EPFL\\MA2\\neuronal dynamics\\project\\NeuronalDynamicsProject\\main.py:90\u001b[39m, in \u001b[36mHopfieldNetwork.compute_overlap\u001b[39m\u001b[34m(self, return_none, ex3)\u001b[39m\n\u001b[32m     88\u001b[39m overlap = \u001b[32m0\u001b[39m\n\u001b[32m     89\u001b[39m \u001b[38;5;28;01mfor\u001b[39;00m j \u001b[38;5;129;01min\u001b[39;00m \u001b[38;5;28mrange\u001b[39m(\u001b[38;5;28mself\u001b[39m.N):\n\u001b[32m---> \u001b[39m\u001b[32m90\u001b[39m     overlap += \u001b[38;5;28mself\u001b[39m.patterns[i][j] * \u001b[38;5;28mself\u001b[39m.states[j]\n\u001b[32m     91\u001b[39m overlaps[i] = (\u001b[32m1\u001b[39m / \u001b[38;5;28mlen\u001b[39m(\u001b[38;5;28mself\u001b[39m.states)) * overlap\n\u001b[32m     92\u001b[39m \u001b[38;5;28;01mif\u001b[39;00m ex3:\n\u001b[32m     93\u001b[39m     \u001b[38;5;66;03m# as per note in Ex3.1\u001b[39;00m\n",
      "\u001b[31mKeyboardInterrupt\u001b[39m: "
     ]
    }
   ],
   "source": [
    "N_values = [100, 200, 300, 400, 500, 600, 700, 800, 900, 1000, 1500]\n",
    "repeats = 5  # Repeat for averaging\n",
    "\n",
    "max_P_ex2 = {N: [] for N in N_values}\n",
    "for n in N_values:\n",
    "    for r in range(repeats):\n",
    "        P = 0\n",
    "        retrieve = True\n",
    "        while retrieve:\n",
    "            # increment P, \n",
    "            P += 1\n",
    "            for p in range(P):\n",
    "                network = HopfieldNetwork(n,P,n/2)\n",
    "                network.set_states(network.patterns[p].copy())\n",
    "                network.compute_overlap()\n",
    "            \n",
    "                new_state = network.compute_next_state_sparse()\n",
    "                if network.overlaps[p] != 1:\n",
    "                    # overlap between pattern and state no longer 1\n",
    "                    retrieve = False\n",
    "        print(f\"completed repeat {r}, N {n}\")\n",
    "        max_P_ex2[n].append(p-1)\n"
   ]
  },
  {
   "cell_type": "code",
   "execution_count": null,
   "id": "9374794b",
   "metadata": {},
   "outputs": [],
   "source": [
    "capacity_means = {N:np.mean(fractions)/N for N,fractions in max_P_ex2.items()}\n",
    "capacity_sterrs = {N:np.std([f/N for f in fractions]) for N,fractions in max_P_ex2.items()}\n",
    "\n",
    "capacity_sterrs"
   ]
  },
  {
   "cell_type": "code",
   "execution_count": null,
   "id": "31ba807d",
   "metadata": {},
   "outputs": [],
   "source": [
    "#plot alpha against N\n",
    "\n",
    "# Plot\n",
    "plt.figure()\n",
    "plt.plot(capacity_means.keys(), capacity_means.values(), marker='o')\n",
    "plt.title(f'P_max/N vs N for Pattern Storage Capacity with K=0.5P')\n",
    "plt.xlabel('nflip / N')\n",
    "plt.ylabel('Fraction')\n",
    "plt.grid(True)\n",
    "plt.tight_layout()\n",
    "plt.show()"
   ]
  },
  {
   "cell_type": "markdown",
   "id": "14190acb",
   "metadata": {},
   "source": [
    "### 2.3"
   ]
  },
  {
   "cell_type": "code",
   "execution_count": null,
   "id": "bdc399b4",
   "metadata": {},
   "outputs": [],
   "source": [
    "N = 600  # Number of neurons\n",
    "T = 30   # Number of update steps\n",
    "P_values = [15, 20]  # Number of patterns\n",
    "nflips_range = np.arange(0, 301, 30)\n",
    "repeats = 5  # Repeat for averaging"
   ]
  },
  {
   "cell_type": "code",
   "execution_count": null,
   "id": "84e5a932",
   "metadata": {},
   "outputs": [],
   "source": [
    "# fractions retrieved is keyed by P, each value being a list across N_flipped\n",
    "fractions_retrieved = {P: [] for P in P_values}\n",
    "errors = {P: [] for P in P_values}\n",
    "\n",
    "for P in P_values:\n",
    "    for N_flipped in nflips_range:\n",
    "        success_counts = []\n",
    "        for _ in range(repeats):\n",
    "            network = HopfieldNetwork(N, P, int(N/2))\n",
    "            success_count = 0\n",
    "            for mu in range(P):\n",
    "                # repeat for all patterns\n",
    "                start_state = network.patterns[mu].copy()\n",
    "                flip_indices = random.sample(range(N), N_flipped)\n",
    "                start_state[flip_indices] *= -1\n",
    "                network.set_states(start_state)\n",
    "                network.compute_overlap(return_none=True)\n",
    "                \n",
    "                for step in range(T):\n",
    "                    network.compute_next_state_sparse()\n",
    "                final_state = network.states\n",
    "                if np.array_equal(final_state, network.patterns[mu]):\n",
    "                    success_count += 1\n",
    "\n",
    "            # find success fractin for the N_flipped, P combination\n",
    "            success_fraction = success_count / P\n",
    "            success_counts.append(success_fraction)\n",
    "\n",
    "        # average over repeats\n",
    "        mean = np.mean(success_counts)\n",
    "        stderr = np.std(success_counts) / np.sqrt(repeats)\n",
    "        fractions_retrieved[P].append(mean)\n",
    "        errors[P].append(stderr)"
   ]
  },
  {
   "cell_type": "code",
   "execution_count": null,
   "id": "4abab0fb",
   "metadata": {},
   "outputs": [],
   "source": [
    "plt.figure(figsize=(10, 6))\n",
    "for P in P_values:\n",
    "    plt.errorbar(nflips_range / N, fractions_retrieved[P], yerr=errors[P], label=f\"P = {P}\", capsize=3, marker='o')\n",
    "\n",
    "plt.xlabel(\"Flipped fraction (nflip / N)\")\n",
    "plt.ylabel(\"Fraction of patterns correctly retrieved\")\n",
    "plt.title(\"Basin of Attraction vs Noise Level for Different P\")\n",
    "plt.grid(True)\n",
    "plt.legend(loc=\"center left\", bbox_to_anchor=(1.0, 0.5))\n",
    "plt.tight_layout()\n",
    "plt.show()"
   ]
  }
 ],
 "metadata": {
  "kernelspec": {
   "display_name": "cebra_lens",
   "language": "python",
   "name": "python3"
  },
  "language_info": {
   "codemirror_mode": {
    "name": "ipython",
    "version": 3
   },
   "file_extension": ".py",
   "mimetype": "text/x-python",
   "name": "python",
   "nbconvert_exporter": "python",
   "pygments_lexer": "ipython3",
   "version": "3.11.11"
  }
 },
 "nbformat": 4,
 "nbformat_minor": 5
}
