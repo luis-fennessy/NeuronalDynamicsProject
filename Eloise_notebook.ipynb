{
 "cells": [
  {
   "cell_type": "code",
   "execution_count": null,
   "id": "87119a54",
   "metadata": {},
   "outputs": [],
   "source": [
    "from main import HopfieldNetwork"
   ]
  }
 ],
 "metadata": {
  "language_info": {
   "name": "python"
  }
 },
 "nbformat": 4,
 "nbformat_minor": 5
}
